{
 "cells": [
  {
   "cell_type": "markdown",
   "metadata": {},
   "source": [
    "## Pipeline to explore proteins stored into Mongo Database"
   ]
  },
  {
   "cell_type": "code",
   "execution_count": 39,
   "metadata": {},
   "outputs": [],
   "source": [
    "# Import modules\n",
    "import pymongo\n",
    "import pandas as pd\n",
    "import seaborn as sns"
   ]
  },
  {
   "cell_type": "code",
   "execution_count": 3,
   "metadata": {},
   "outputs": [
    {
     "name": "stdout",
     "output_type": "stream",
     "text": [
      "Database(MongoClient(host=['localhost:27017'], document_class=dict, tz_aware=False, connect=True), 'sequencesdb')\n"
     ]
    }
   ],
   "source": [
    "# Create connetion\n",
    "conn = pymongo.MongoClient()\n",
    "db = conn.sequencesdb\n",
    "print(db)"
   ]
  },
  {
   "cell_type": "code",
   "execution_count": 7,
   "metadata": {},
   "outputs": [
    {
     "data": {
      "text/plain": [
       "['proteins']"
      ]
     },
     "execution_count": 7,
     "metadata": {},
     "output_type": "execute_result"
    }
   ],
   "source": [
    "# Print my collection (proteins)\n",
    "db.list_collection_names()"
   ]
  },
  {
   "cell_type": "code",
   "execution_count": 14,
   "metadata": {},
   "outputs": [
    {
     "data": {
      "text/plain": [
       "{'_id': ObjectId('5cf6cf3ef4e2f510e5b8c212'),\n",
       " 'code': 'SB0020CVL',\n",
       " 'species': 'Bothops jararaca',\n",
       " 'type_seq': 'nucleotide',\n",
       " 'seq_size': 699,\n",
       " 'id': 'TRINITY_DN17539_c4_g1_i2.p1|117-815(+)|BJAR454SVSP07_SVSP',\n",
       " 'sequence': 'ATGGTGCTGATCAGAGTGCTAGCAAACCTTCTGATACTACAGCTTTCCTACGTACAAAAGTCTTCTGAACTGGTCGTTGGAGGTCGTCCATGTAACATAAATGAACATCGTTCCCTTGTTGTCTTGCTTAACTCTAGTGGGTTTCTCTGCGCTGGGACTTTGATCAACCAGGAATGGGTGCTCACTGCTGCACACTGCGACATTAAAAATCTCCAGATACAGCTTGGTGTGCATAGCAAAAAGGTACGAAATGAGGATGAGCAGACAAGAGACCCAAAGGAGAAGTTCTTTTGTCTCAGTAGCAAAACCAATAATGAATGGGAGAAGGACATCATGTTGATCAAGCTGGACAGTCGTGTTAGCAACAGTGAACACATCGCACCTCTCAGCTTGCCTTCCAGCCCTCCCAGTGTGGGATCACTTTGCCGTATTATGGGATGGGGCACAATCTCATCTACTAAAGAAACTTATCCCAATGTCCCTCGTTGTGCTAACATTAACATACTCGATTATGCAGTGTGTCGAGCAGCTTACCCATGGTGGCCGGCGACAACCAGAACATTATGTGCAGGTGTCCTGCAAGGAGGCAAAGATACATGTGAGGGTGACTCTGGGGGACCCCTCATCTGTAATGGACAAATCCAGGGCATTGTATCTTGGGGGTCGCATCCTTGTGGCCGACGTCTTAAGCCTGGCTTC',\n",
       " 'tpm': 55.51,\n",
       " 'fpkm': 74.58}"
      ]
     },
     "execution_count": 14,
     "metadata": {},
     "output_type": "execute_result"
    }
   ],
   "source": [
    "# Checking the document structure\n",
    "db.proteins.find_one()"
   ]
  },
  {
   "cell_type": "code",
   "execution_count": 16,
   "metadata": {},
   "outputs": [
    {
     "data": {
      "text/plain": [
       "['nucleotide']"
      ]
     },
     "execution_count": 16,
     "metadata": {},
     "output_type": "execute_result"
    }
   ],
   "source": [
    "# Check sequence type\n",
    "db.proteins.distinct('type_seq')"
   ]
  },
  {
   "cell_type": "code",
   "execution_count": 20,
   "metadata": {},
   "outputs": [
    {
     "data": {
      "text/plain": [
       "276"
      ]
     },
     "execution_count": 20,
     "metadata": {},
     "output_type": "execute_result"
    }
   ],
   "source": [
    "# Total of sequences\n",
    "db.proteins.count_documents({})"
   ]
  },
  {
   "cell_type": "code",
   "execution_count": 33,
   "metadata": {},
   "outputs": [],
   "source": [
    "# Convert a collection to a dataframe\n",
    "df = pd.DataFrame(list(db.proteins.find()))"
   ]
  },
  {
   "cell_type": "code",
   "execution_count": 34,
   "metadata": {},
   "outputs": [
    {
     "data": {
      "text/html": [
       "<div>\n",
       "<style scoped>\n",
       "    .dataframe tbody tr th:only-of-type {\n",
       "        vertical-align: middle;\n",
       "    }\n",
       "\n",
       "    .dataframe tbody tr th {\n",
       "        vertical-align: top;\n",
       "    }\n",
       "\n",
       "    .dataframe thead th {\n",
       "        text-align: right;\n",
       "    }\n",
       "</style>\n",
       "<table border=\"1\" class=\"dataframe\">\n",
       "  <thead>\n",
       "    <tr style=\"text-align: right;\">\n",
       "      <th></th>\n",
       "      <th>_id</th>\n",
       "      <th>code</th>\n",
       "      <th>fpkm</th>\n",
       "      <th>id</th>\n",
       "      <th>seq_size</th>\n",
       "      <th>sequence</th>\n",
       "      <th>species</th>\n",
       "      <th>tpm</th>\n",
       "      <th>type_seq</th>\n",
       "    </tr>\n",
       "  </thead>\n",
       "  <tbody>\n",
       "    <tr>\n",
       "      <th>0</th>\n",
       "      <td>5cf6cf3ef4e2f510e5b8c212</td>\n",
       "      <td>SB0020CVL</td>\n",
       "      <td>74.58</td>\n",
       "      <td>TRINITY_DN17539_c4_g1_i2.p1|117-815(+)|BJAR454...</td>\n",
       "      <td>699</td>\n",
       "      <td>ATGGTGCTGATCAGAGTGCTAGCAAACCTTCTGATACTACAGCTTT...</td>\n",
       "      <td>Bothops jararaca</td>\n",
       "      <td>55.51</td>\n",
       "      <td>nucleotide</td>\n",
       "    </tr>\n",
       "    <tr>\n",
       "      <th>1</th>\n",
       "      <td>5cf6cf3ef4e2f510e5b8c213</td>\n",
       "      <td>SB0020CVL</td>\n",
       "      <td>2.32</td>\n",
       "      <td>comp3_seq30.p1|5195-4413(-)|BJAR454SVSP04_SVSP</td>\n",
       "      <td>783</td>\n",
       "      <td>ATGGTGCTGATCAGAGTACTAGCAAACCTTCTGATACTACAGCTTT...</td>\n",
       "      <td>Bothops jararaca</td>\n",
       "      <td>1.73</td>\n",
       "      <td>nucleotide</td>\n",
       "    </tr>\n",
       "    <tr>\n",
       "      <th>2</th>\n",
       "      <td>5cf6cf3ef4e2f510e5b8c214</td>\n",
       "      <td>SB0020CVL</td>\n",
       "      <td>16196.42</td>\n",
       "      <td>k127_NODE_8838_length_1048_cov_5093.282302_g82...</td>\n",
       "      <td>720</td>\n",
       "      <td>ATGATTGCCTTCATTGTCTTGCTAATTCTTGCTGCAGTGTTGCAAC...</td>\n",
       "      <td>Bothops jararaca</td>\n",
       "      <td>12054.97</td>\n",
       "      <td>nucleotide</td>\n",
       "    </tr>\n",
       "    <tr>\n",
       "      <th>3</th>\n",
       "      <td>5cf6cf3ef4e2f510e5b8c215</td>\n",
       "      <td>SB0020CVL</td>\n",
       "      <td>1445.12</td>\n",
       "      <td>cl_24411_1.p1|2793-91(-)|BJAR454DIESTER2_DIESTER</td>\n",
       "      <td>2703</td>\n",
       "      <td>CCTGTTGTCACTTCCAGCAGTTCCTTGAGACTGGATAGTACCTCCC...</td>\n",
       "      <td>Bothops jararaca</td>\n",
       "      <td>1075.60</td>\n",
       "      <td>nucleotide</td>\n",
       "    </tr>\n",
       "    <tr>\n",
       "      <th>4</th>\n",
       "      <td>5cf6cf3ef4e2f510e5b8c216</td>\n",
       "      <td>SB0020CVL</td>\n",
       "      <td>30.32</td>\n",
       "      <td>TRINITY_DN18143_c2_g1_i16.p3|1027-569(-)|Q90X2...</td>\n",
       "      <td>459</td>\n",
       "      <td>ATGCTCCCGGGTGCCAGCTTCAGGGCTGGACCCTTTGCTAACTGGG...</td>\n",
       "      <td>Bothops jararaca</td>\n",
       "      <td>22.57</td>\n",
       "      <td>nucleotide</td>\n",
       "    </tr>\n",
       "  </tbody>\n",
       "</table>\n",
       "</div>"
      ],
      "text/plain": [
       "                        _id       code      fpkm  \\\n",
       "0  5cf6cf3ef4e2f510e5b8c212  SB0020CVL     74.58   \n",
       "1  5cf6cf3ef4e2f510e5b8c213  SB0020CVL      2.32   \n",
       "2  5cf6cf3ef4e2f510e5b8c214  SB0020CVL  16196.42   \n",
       "3  5cf6cf3ef4e2f510e5b8c215  SB0020CVL   1445.12   \n",
       "4  5cf6cf3ef4e2f510e5b8c216  SB0020CVL     30.32   \n",
       "\n",
       "                                                  id  seq_size  \\\n",
       "0  TRINITY_DN17539_c4_g1_i2.p1|117-815(+)|BJAR454...       699   \n",
       "1     comp3_seq30.p1|5195-4413(-)|BJAR454SVSP04_SVSP       783   \n",
       "2  k127_NODE_8838_length_1048_cov_5093.282302_g82...       720   \n",
       "3   cl_24411_1.p1|2793-91(-)|BJAR454DIESTER2_DIESTER      2703   \n",
       "4  TRINITY_DN18143_c2_g1_i16.p3|1027-569(-)|Q90X2...       459   \n",
       "\n",
       "                                            sequence           species  \\\n",
       "0  ATGGTGCTGATCAGAGTGCTAGCAAACCTTCTGATACTACAGCTTT...  Bothops jararaca   \n",
       "1  ATGGTGCTGATCAGAGTACTAGCAAACCTTCTGATACTACAGCTTT...  Bothops jararaca   \n",
       "2  ATGATTGCCTTCATTGTCTTGCTAATTCTTGCTGCAGTGTTGCAAC...  Bothops jararaca   \n",
       "3  CCTGTTGTCACTTCCAGCAGTTCCTTGAGACTGGATAGTACCTCCC...  Bothops jararaca   \n",
       "4  ATGCTCCCGGGTGCCAGCTTCAGGGCTGGACCCTTTGCTAACTGGG...  Bothops jararaca   \n",
       "\n",
       "        tpm    type_seq  \n",
       "0     55.51  nucleotide  \n",
       "1      1.73  nucleotide  \n",
       "2  12054.97  nucleotide  \n",
       "3   1075.60  nucleotide  \n",
       "4     22.57  nucleotide  "
      ]
     },
     "execution_count": 34,
     "metadata": {},
     "output_type": "execute_result"
    }
   ],
   "source": [
    "df.head()"
   ]
  },
  {
   "cell_type": "code",
   "execution_count": 37,
   "metadata": {},
   "outputs": [
    {
     "name": "stdout",
     "output_type": "stream",
     "text": [
      "<class 'pandas.core.frame.DataFrame'>\n",
      "RangeIndex: 276 entries, 0 to 275\n",
      "Data columns (total 9 columns):\n",
      "_id         276 non-null object\n",
      "code        276 non-null object\n",
      "fpkm        276 non-null float64\n",
      "id          276 non-null object\n",
      "seq_size    276 non-null int64\n",
      "sequence    276 non-null object\n",
      "species     276 non-null object\n",
      "tpm         276 non-null float64\n",
      "type_seq    276 non-null object\n",
      "dtypes: float64(2), int64(1), object(6)\n",
      "memory usage: 19.5+ KB\n"
     ]
    }
   ],
   "source": [
    "df.info()"
   ]
  },
  {
   "cell_type": "code",
   "execution_count": 40,
   "metadata": {},
   "outputs": [
    {
     "data": {
      "text/plain": [
       "<matplotlib.axes._subplots.AxesSubplot at 0x7f628b40b5c0>"
      ]
     },
     "execution_count": 40,
     "metadata": {},
     "output_type": "execute_result"
    },
    {
     "data": {
      "image/png": "[encoded data removed]",
      "text/plain": [
       "<Figure size 432x288 with 1 Axes>"
      ]
     },
     "metadata": {
      "needs_background": "light"
     },
     "output_type": "display_data"
    }
   ],
   "source": [
    "sns.distplot(df.seq_size)"
   ]
  },
  {
   "cell_type": "code",
   "execution_count": null,
   "metadata": {},
   "outputs": [],
   "source": [
    "sns.distplot(df.seq_size)"
   ]
  }
 ],
 "metadata": {
  "kernelspec": {
   "display_name": "Python 3",
   "language": "python",
   "name": "python3"
  },
  "language_info": {
   "codemirror_mode": {
    "name": "ipython",
    "version": 3
   },
   "file_extension": ".py",
   "mimetype": "text/x-python",
   "name": "python",
   "nbconvert_exporter": "python",
   "pygments_lexer": "ipython3",
   "version": "3.7.3"
  }
 },
 "nbformat": 4,
 "nbformat_minor": 2
}
