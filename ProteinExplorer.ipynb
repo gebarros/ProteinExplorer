{
 "cells": [
  {
   "cell_type": "markdown",
   "metadata": {},
   "source": [
    "# Toxin Explorer\n",
    "\n",
    "### A pipeline used to explore and to generate a report of the predicted snake toxins"
   ]
  },
  {
   "cell_type": "code",
   "execution_count": 19,
   "metadata": {},
   "outputs": [],
   "source": [
    "# Import module\n",
    "import sqlite3\n",
    "import pandas as pd\n",
    "from Bio import SeqIO"
   ]
  },
  {
   "cell_type": "code",
   "execution_count": 22,
   "metadata": {},
   "outputs": [],
   "source": [
    "# Getting inputs\n",
    "multifasta = SeqIO.parse('SB0020CVL_toxhunt_selected_orfs_annotated_nts_uniq.fasta', 'fasta')\n",
    "expression_level = pd.read_csv('SB0020CVL.expression.isoforms.results', sep='\\t')"
   ]
  },
  {
   "cell_type": "code",
   "execution_count": 23,
   "metadata": {},
   "outputs": [
    {
     "data": {
      "text/html": [
       "<div>\n",
       "<style scoped>\n",
       "    .dataframe tbody tr th:only-of-type {\n",
       "        vertical-align: middle;\n",
       "    }\n",
       "\n",
       "    .dataframe tbody tr th {\n",
       "        vertical-align: top;\n",
       "    }\n",
       "\n",
       "    .dataframe thead th {\n",
       "        text-align: right;\n",
       "    }\n",
       "</style>\n",
       "<table border=\"1\" class=\"dataframe\">\n",
       "  <thead>\n",
       "    <tr style=\"text-align: right;\">\n",
       "      <th></th>\n",
       "      <th>transcript_id</th>\n",
       "      <th>gene_id</th>\n",
       "      <th>length</th>\n",
       "      <th>effective_length</th>\n",
       "      <th>expected_count</th>\n",
       "      <th>TPM</th>\n",
       "      <th>FPKM</th>\n",
       "      <th>IsoPct</th>\n",
       "    </tr>\n",
       "  </thead>\n",
       "  <tbody>\n",
       "    <tr>\n",
       "      <th>0</th>\n",
       "      <td>TRINITY_DN10842_c1_g1_i1.p1|1-552(+)|BJAR454CT...</td>\n",
       "      <td>TRINITY_DN10842_c1_g1_i1.p1|1-552(+)|BJAR454CT...</td>\n",
       "      <td>552</td>\n",
       "      <td>377.68</td>\n",
       "      <td>2270.10</td>\n",
       "      <td>997.70</td>\n",
       "      <td>1340.46</td>\n",
       "      <td>100.0</td>\n",
       "    </tr>\n",
       "    <tr>\n",
       "      <th>1</th>\n",
       "      <td>TRINITY_DN10842_c1_g1_i2.p1|2-526(+)|BJAR454CT...</td>\n",
       "      <td>TRINITY_DN10842_c1_g1_i2.p1|2-526(+)|BJAR454CT...</td>\n",
       "      <td>525</td>\n",
       "      <td>350.68</td>\n",
       "      <td>8.77</td>\n",
       "      <td>4.15</td>\n",
       "      <td>5.58</td>\n",
       "      <td>100.0</td>\n",
       "    </tr>\n",
       "    <tr>\n",
       "      <th>2</th>\n",
       "      <td>TRINITY_DN16107_c2_g1_i8.p1|1020-1676(+)|BJAR4...</td>\n",
       "      <td>TRINITY_DN16107_c2_g1_i8.p1|1020-1676(+)|BJAR4...</td>\n",
       "      <td>657</td>\n",
       "      <td>482.68</td>\n",
       "      <td>8.34</td>\n",
       "      <td>2.87</td>\n",
       "      <td>3.86</td>\n",
       "      <td>100.0</td>\n",
       "    </tr>\n",
       "    <tr>\n",
       "      <th>3</th>\n",
       "      <td>TRINITY_DN16107_c2_g1_i9.p1|1020-1670(+)|BJAR4...</td>\n",
       "      <td>TRINITY_DN16107_c2_g1_i9.p1|1020-1670(+)|BJAR4...</td>\n",
       "      <td>651</td>\n",
       "      <td>476.68</td>\n",
       "      <td>146.97</td>\n",
       "      <td>51.18</td>\n",
       "      <td>68.76</td>\n",
       "      <td>100.0</td>\n",
       "    </tr>\n",
       "    <tr>\n",
       "      <th>4</th>\n",
       "      <td>TRINITY_DN16899_c2_g1_i5.p1|2-409(+)|BJAR454CT...</td>\n",
       "      <td>TRINITY_DN16899_c2_g1_i5.p1|2-409(+)|BJAR454CT...</td>\n",
       "      <td>408</td>\n",
       "      <td>233.68</td>\n",
       "      <td>0.00</td>\n",
       "      <td>0.00</td>\n",
       "      <td>0.00</td>\n",
       "      <td>0.0</td>\n",
       "    </tr>\n",
       "  </tbody>\n",
       "</table>\n",
       "</div>"
      ],
      "text/plain": [
       "                                       transcript_id  \\\n",
       "0  TRINITY_DN10842_c1_g1_i1.p1|1-552(+)|BJAR454CT...   \n",
       "1  TRINITY_DN10842_c1_g1_i2.p1|2-526(+)|BJAR454CT...   \n",
       "2  TRINITY_DN16107_c2_g1_i8.p1|1020-1676(+)|BJAR4...   \n",
       "3  TRINITY_DN16107_c2_g1_i9.p1|1020-1670(+)|BJAR4...   \n",
       "4  TRINITY_DN16899_c2_g1_i5.p1|2-409(+)|BJAR454CT...   \n",
       "\n",
       "                                             gene_id  length  \\\n",
       "0  TRINITY_DN10842_c1_g1_i1.p1|1-552(+)|BJAR454CT...     552   \n",
       "1  TRINITY_DN10842_c1_g1_i2.p1|2-526(+)|BJAR454CT...     525   \n",
       "2  TRINITY_DN16107_c2_g1_i8.p1|1020-1676(+)|BJAR4...     657   \n",
       "3  TRINITY_DN16107_c2_g1_i9.p1|1020-1670(+)|BJAR4...     651   \n",
       "4  TRINITY_DN16899_c2_g1_i5.p1|2-409(+)|BJAR454CT...     408   \n",
       "\n",
       "   effective_length  expected_count     TPM     FPKM  IsoPct  \n",
       "0            377.68         2270.10  997.70  1340.46   100.0  \n",
       "1            350.68            8.77    4.15     5.58   100.0  \n",
       "2            482.68            8.34    2.87     3.86   100.0  \n",
       "3            476.68          146.97   51.18    68.76   100.0  \n",
       "4            233.68            0.00    0.00     0.00     0.0  "
      ]
     },
     "execution_count": 23,
     "metadata": {},
     "output_type": "execute_result"
    }
   ],
   "source": [
    "expression_level.head()"
   ]
  },
  {
   "cell_type": "code",
   "execution_count": 39,
   "metadata": {},
   "outputs": [],
   "source": [
    "my_dict = {}\n",
    "\n",
    "for fasta in multifasta:\n",
    "    name, sequence = fasta.id, str(fasta.seq)\n",
    "    lenght_seq = len(sequence)\n",
    "    \n",
    "    print(fasta)"
   ]
  },
  {
   "cell_type": "code",
   "execution_count": null,
   "metadata": {},
   "outputs": [],
   "source": []
  },
  {
   "cell_type": "code",
   "execution_count": null,
   "metadata": {},
   "outputs": [],
   "source": []
  },
  {
   "cell_type": "code",
   "execution_count": null,
   "metadata": {},
   "outputs": [],
   "source": []
  },
  {
   "cell_type": "code",
   "execution_count": null,
   "metadata": {},
   "outputs": [],
   "source": []
  },
  {
   "cell_type": "code",
   "execution_count": null,
   "metadata": {},
   "outputs": [],
   "source": []
  },
  {
   "cell_type": "code",
   "execution_count": null,
   "metadata": {},
   "outputs": [],
   "source": []
  },
  {
   "cell_type": "code",
   "execution_count": null,
   "metadata": {},
   "outputs": [],
   "source": []
  },
  {
   "cell_type": "code",
   "execution_count": null,
   "metadata": {},
   "outputs": [],
   "source": []
  },
  {
   "cell_type": "code",
   "execution_count": null,
   "metadata": {},
   "outputs": [],
   "source": []
  },
  {
   "cell_type": "code",
   "execution_count": null,
   "metadata": {},
   "outputs": [],
   "source": []
  },
  {
   "cell_type": "code",
   "execution_count": null,
   "metadata": {},
   "outputs": [],
   "source": []
  },
  {
   "cell_type": "code",
   "execution_count": 2,
   "metadata": {},
   "outputs": [],
   "source": [
    "# Creating a connection\n",
    "con = sqlite3.Connection('toxins.db')"
   ]
  },
  {
   "cell_type": "code",
   "execution_count": 3,
   "metadata": {},
   "outputs": [
    {
     "data": {
      "text/plain": [
       "sqlite3.Connection"
      ]
     },
     "execution_count": 3,
     "metadata": {},
     "output_type": "execute_result"
    }
   ],
   "source": [
    "type(con)"
   ]
  },
  {
   "cell_type": "code",
   "execution_count": 4,
   "metadata": {},
   "outputs": [],
   "source": [
    "# Creating a cursor - to be able to access all data\n",
    "cur = con.cursor()"
   ]
  },
  {
   "cell_type": "code",
   "execution_count": 5,
   "metadata": {},
   "outputs": [
    {
     "data": {
      "text/plain": [
       "sqlite3.Cursor"
      ]
     },
     "execution_count": 5,
     "metadata": {},
     "output_type": "execute_result"
    }
   ],
   "source": [
    "type(cur)"
   ]
  },
  {
   "cell_type": "code",
   "execution_count": 11,
   "metadata": {},
   "outputs": [],
   "source": [
    "sql_create = 'create table toxins\\\n",
    "(id integer primary key,\\\n",
    "sample_id varchar(15),\\\n",
    "toxin_family varchar(20),\\\n",
    "seq_size integer,\\\n",
    "expression real,\\\n",
    "transcript_id varchar(200),\\\n",
    "seq text)'"
   ]
  },
  {
   "cell_type": "code",
   "execution_count": 12,
   "metadata": {},
   "outputs": [
    {
     "data": {
      "text/plain": [
       "'create table toxins(id integer primary key,sample_id varchar(15),toxin_family varchar(20),seq_size integer,expression real,transcript_id varchar(200),seq text)'"
      ]
     },
     "execution_count": 12,
     "metadata": {},
     "output_type": "execute_result"
    }
   ],
   "source": [
    "sql_create"
   ]
  },
  {
   "cell_type": "code",
   "execution_count": null,
   "metadata": {},
   "outputs": [],
   "source": []
  }
 ],
 "metadata": {
  "kernelspec": {
   "display_name": "Python 3",
   "language": "python",
   "name": "python3"
  },
  "language_info": {
   "codemirror_mode": {
    "name": "ipython",
    "version": 3
   },
   "file_extension": ".py",
   "mimetype": "text/x-python",
   "name": "python",
   "nbconvert_exporter": "python",
   "pygments_lexer": "ipython3",
   "version": "3.6.8"
  }
 },
 "nbformat": 4,
 "nbformat_minor": 2
}
